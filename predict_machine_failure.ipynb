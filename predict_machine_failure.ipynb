{
 "cells": [
  {
   "cell_type": "markdown",
   "metadata": {},
   "source": [
    "# **SIC5 2024** *Technical Assignment 2: Predict Machine Failure*"
   ]
  },
  {
   "cell_type": "markdown",
   "metadata": {},
   "source": [
    "```shell\n",
    "Name  : Bayu Siddhi Mukti\n",
    "Group : 6\n",
    "```"
   ]
  },
  {
   "cell_type": "markdown",
   "metadata": {},
   "source": [
    "**Objective**:\n",
    "- Develop a machine learning model to predict tool wear failures in a milling machine based on sensor data.\n",
    "- Early prediction of tool wear can significantly reduce production downtime and maintenance costs."
   ]
  },
  {
   "cell_type": "markdown",
   "metadata": {},
   "source": [
    "# **Import Libraries**"
   ]
  },
  {
   "cell_type": "code",
   "execution_count": 1,
   "metadata": {},
   "outputs": [],
   "source": [
    "import pickle\n",
    "import numpy as np\n",
    "import pandas as pd\n",
    "import seaborn as sns\n",
    "import matplotlib.pyplot as plt\n",
    "\n",
    "from ucimlrepo import fetch_ucirepo\n",
    "\n",
    "from sklearn.preprocessing import StandardScaler\n",
    "from sklearn.preprocessing import MinMaxScaler\n",
    "from sklearn.model_selection import cross_validate\n",
    "from imblearn.over_sampling import RandomOverSampler\n",
    "from sklearn.model_selection import train_test_split\n",
    "\n",
    "from sklearn.svm import SVC\n",
    "from sklearn.linear_model import SGDClassifier\n",
    "from sklearn.tree import DecisionTreeClassifier\n",
    "from sklearn.linear_model import LogisticRegression\n",
    "from sklearn.ensemble import RandomForestClassifier\n",
    "\n",
    "from sklearn.metrics import confusion_matrix\n",
    "from sklearn.metrics import classification_report"
   ]
  },
  {
   "cell_type": "markdown",
   "metadata": {},
   "source": [
    "# **Get the Data**"
   ]
  },
  {
   "cell_type": "markdown",
   "metadata": {},
   "source": [
    "The data that will be used is **The AI4I 2020 Predictive Maintenance Dataset** data, which is a synthetic data collection that represents real predictive maintenance data found in industry. Data obtained from *UC Irvine Machine Learning Repository*, using the `ucimlrepo` library, on the page https://archive.ics.uci.edu/dataset/601/ai4i+2020+predictive+maintenance+dataset."
   ]
  },
  {
   "cell_type": "code",
   "execution_count": 2,
   "metadata": {},
   "outputs": [],
   "source": [
    "# Fetch dataset\n",
    "ai4i_2020_predictive_maintenance_dataset = fetch_ucirepo(id=601)"
   ]
  },
  {
   "cell_type": "code",
   "execution_count": 3,
   "metadata": {},
   "outputs": [],
   "source": [
    "# Get the data as pandas dataframes\n",
    "original = ai4i_2020_predictive_maintenance_dataset.data.original\n",
    "dataset = ai4i_2020_predictive_maintenance_dataset.data.original\n",
    "X = ai4i_2020_predictive_maintenance_dataset.data.features \n",
    "y = ai4i_2020_predictive_maintenance_dataset.data.targets "
   ]
  },
  {
   "cell_type": "markdown",
   "metadata": {},
   "source": [
    "# **Explore the Data**"
   ]
  },
  {
   "cell_type": "markdown",
   "metadata": {},
   "source": [
    "## **Data Details**"
   ]
  },
  {
   "cell_type": "markdown",
   "metadata": {},
   "source": [
    "The UCI ML Repository dataset structure is divided into 3 parts, namely `data`, `metadata`, and `variables`.\n",
    "\n",
    "- **`data`**: Contains data in the form of **pandas** dataframes\n",
    "  - `ids`: The ID column of the dataframe\n",
    "  - `features`: Feature columns of the dataframe\n",
    "  - `targets`: Target column of the dataframe\n",
    "  - `original`: Dataframe contains all IDs, features, and targets\n",
    "  - `headers`: List of all variable names\n",
    "- **`metadata`**: Contains metadata information related to the dataset\n",
    "  - ...\n",
    "- **`variables`**: Contains all variable details in the form of a dataframe\n",
    "  - `name`: Variable name\n",
    "  - `role`: Role variable (ID, feature, or target)\n",
    "  - `type`: Data type, such as categorical, integer, or continuous, etc.\n",
    "  - `demographic`: Informs whether the variable represents demographic data\n",
    "  - `description`: Short description of the variable\n",
    "  - `units`: Units of non-categorical variables\n",
    "  - `missing_values`: Informs whether there are missing values ​​in the variable column"
   ]
  },
  {
   "cell_type": "code",
   "execution_count": 4,
   "metadata": {},
   "outputs": [
    {
     "data": {
      "text/html": [
       "<div>\n",
       "<style scoped>\n",
       "    .dataframe tbody tr th:only-of-type {\n",
       "        vertical-align: middle;\n",
       "    }\n",
       "\n",
       "    .dataframe tbody tr th {\n",
       "        vertical-align: top;\n",
       "    }\n",
       "\n",
       "    .dataframe thead th {\n",
       "        text-align: right;\n",
       "    }\n",
       "</style>\n",
       "<table border=\"1\" class=\"dataframe\">\n",
       "  <thead>\n",
       "    <tr style=\"text-align: right;\">\n",
       "      <th></th>\n",
       "      <th>UID</th>\n",
       "      <th>Product ID</th>\n",
       "      <th>Type</th>\n",
       "      <th>Air temperature</th>\n",
       "      <th>Process temperature</th>\n",
       "      <th>Rotational speed</th>\n",
       "      <th>Torque</th>\n",
       "      <th>Tool wear</th>\n",
       "      <th>Machine failure</th>\n",
       "      <th>TWF</th>\n",
       "      <th>HDF</th>\n",
       "      <th>PWF</th>\n",
       "      <th>OSF</th>\n",
       "      <th>RNF</th>\n",
       "    </tr>\n",
       "  </thead>\n",
       "  <tbody>\n",
       "    <tr>\n",
       "      <th>6367</th>\n",
       "      <td>6368</td>\n",
       "      <td>L53547</td>\n",
       "      <td>L</td>\n",
       "      <td>300.0</td>\n",
       "      <td>309.6</td>\n",
       "      <td>1571</td>\n",
       "      <td>33.1</td>\n",
       "      <td>65</td>\n",
       "      <td>0</td>\n",
       "      <td>0</td>\n",
       "      <td>0</td>\n",
       "      <td>0</td>\n",
       "      <td>0</td>\n",
       "      <td>0</td>\n",
       "    </tr>\n",
       "    <tr>\n",
       "      <th>4011</th>\n",
       "      <td>4012</td>\n",
       "      <td>L51191</td>\n",
       "      <td>L</td>\n",
       "      <td>302.2</td>\n",
       "      <td>311.1</td>\n",
       "      <td>1447</td>\n",
       "      <td>52.1</td>\n",
       "      <td>174</td>\n",
       "      <td>0</td>\n",
       "      <td>0</td>\n",
       "      <td>0</td>\n",
       "      <td>0</td>\n",
       "      <td>0</td>\n",
       "      <td>0</td>\n",
       "    </tr>\n",
       "    <tr>\n",
       "      <th>8699</th>\n",
       "      <td>8700</td>\n",
       "      <td>M23559</td>\n",
       "      <td>M</td>\n",
       "      <td>297.3</td>\n",
       "      <td>308.7</td>\n",
       "      <td>1655</td>\n",
       "      <td>34.1</td>\n",
       "      <td>21</td>\n",
       "      <td>0</td>\n",
       "      <td>0</td>\n",
       "      <td>0</td>\n",
       "      <td>0</td>\n",
       "      <td>0</td>\n",
       "      <td>0</td>\n",
       "    </tr>\n",
       "    <tr>\n",
       "      <th>5436</th>\n",
       "      <td>5437</td>\n",
       "      <td>M20296</td>\n",
       "      <td>M</td>\n",
       "      <td>302.9</td>\n",
       "      <td>312.5</td>\n",
       "      <td>1679</td>\n",
       "      <td>30.9</td>\n",
       "      <td>79</td>\n",
       "      <td>0</td>\n",
       "      <td>0</td>\n",
       "      <td>0</td>\n",
       "      <td>0</td>\n",
       "      <td>0</td>\n",
       "      <td>0</td>\n",
       "    </tr>\n",
       "    <tr>\n",
       "      <th>7928</th>\n",
       "      <td>7929</td>\n",
       "      <td>L55108</td>\n",
       "      <td>L</td>\n",
       "      <td>300.6</td>\n",
       "      <td>311.7</td>\n",
       "      <td>1497</td>\n",
       "      <td>43.6</td>\n",
       "      <td>198</td>\n",
       "      <td>0</td>\n",
       "      <td>0</td>\n",
       "      <td>0</td>\n",
       "      <td>0</td>\n",
       "      <td>0</td>\n",
       "      <td>0</td>\n",
       "    </tr>\n",
       "  </tbody>\n",
       "</table>\n",
       "</div>"
      ],
      "text/plain": [
       "       UID Product ID Type  Air temperature  Process temperature  \\\n",
       "6367  6368     L53547    L            300.0                309.6   \n",
       "4011  4012     L51191    L            302.2                311.1   \n",
       "8699  8700     M23559    M            297.3                308.7   \n",
       "5436  5437     M20296    M            302.9                312.5   \n",
       "7928  7929     L55108    L            300.6                311.7   \n",
       "\n",
       "      Rotational speed  Torque  Tool wear  Machine failure  TWF  HDF  PWF  \\\n",
       "6367              1571    33.1         65                0    0    0    0   \n",
       "4011              1447    52.1        174                0    0    0    0   \n",
       "8699              1655    34.1         21                0    0    0    0   \n",
       "5436              1679    30.9         79                0    0    0    0   \n",
       "7928              1497    43.6        198                0    0    0    0   \n",
       "\n",
       "      OSF  RNF  \n",
       "6367    0    0  \n",
       "4011    0    0  \n",
       "8699    0    0  \n",
       "5436    0    0  \n",
       "7928    0    0  "
      ]
     },
     "execution_count": 4,
     "metadata": {},
     "output_type": "execute_result"
    }
   ],
   "source": [
    "# View examples of dataset contents\n",
    "original.sample(5)"
   ]
  },
  {
   "cell_type": "code",
   "execution_count": 5,
   "metadata": {},
   "outputs": [
    {
     "data": {
      "text/html": [
       "<div>\n",
       "<style scoped>\n",
       "    .dataframe tbody tr th:only-of-type {\n",
       "        vertical-align: middle;\n",
       "    }\n",
       "\n",
       "    .dataframe tbody tr th {\n",
       "        vertical-align: top;\n",
       "    }\n",
       "\n",
       "    .dataframe thead th {\n",
       "        text-align: right;\n",
       "    }\n",
       "</style>\n",
       "<table border=\"1\" class=\"dataframe\">\n",
       "  <thead>\n",
       "    <tr style=\"text-align: right;\">\n",
       "      <th></th>\n",
       "      <th>name</th>\n",
       "      <th>role</th>\n",
       "      <th>type</th>\n",
       "      <th>demographic</th>\n",
       "      <th>description</th>\n",
       "      <th>units</th>\n",
       "      <th>missing_values</th>\n",
       "    </tr>\n",
       "  </thead>\n",
       "  <tbody>\n",
       "    <tr>\n",
       "      <th>0</th>\n",
       "      <td>UID</td>\n",
       "      <td>ID</td>\n",
       "      <td>Integer</td>\n",
       "      <td>None</td>\n",
       "      <td>None</td>\n",
       "      <td>None</td>\n",
       "      <td>no</td>\n",
       "    </tr>\n",
       "    <tr>\n",
       "      <th>1</th>\n",
       "      <td>Product ID</td>\n",
       "      <td>ID</td>\n",
       "      <td>Categorical</td>\n",
       "      <td>None</td>\n",
       "      <td>None</td>\n",
       "      <td>None</td>\n",
       "      <td>no</td>\n",
       "    </tr>\n",
       "    <tr>\n",
       "      <th>2</th>\n",
       "      <td>Type</td>\n",
       "      <td>Feature</td>\n",
       "      <td>Categorical</td>\n",
       "      <td>None</td>\n",
       "      <td>None</td>\n",
       "      <td>None</td>\n",
       "      <td>no</td>\n",
       "    </tr>\n",
       "    <tr>\n",
       "      <th>3</th>\n",
       "      <td>Air temperature</td>\n",
       "      <td>Feature</td>\n",
       "      <td>Continuous</td>\n",
       "      <td>None</td>\n",
       "      <td>None</td>\n",
       "      <td>K</td>\n",
       "      <td>no</td>\n",
       "    </tr>\n",
       "    <tr>\n",
       "      <th>4</th>\n",
       "      <td>Process temperature</td>\n",
       "      <td>Feature</td>\n",
       "      <td>Continuous</td>\n",
       "      <td>None</td>\n",
       "      <td>None</td>\n",
       "      <td>K</td>\n",
       "      <td>no</td>\n",
       "    </tr>\n",
       "    <tr>\n",
       "      <th>5</th>\n",
       "      <td>Rotational speed</td>\n",
       "      <td>Feature</td>\n",
       "      <td>Integer</td>\n",
       "      <td>None</td>\n",
       "      <td>None</td>\n",
       "      <td>rpm</td>\n",
       "      <td>no</td>\n",
       "    </tr>\n",
       "    <tr>\n",
       "      <th>6</th>\n",
       "      <td>Torque</td>\n",
       "      <td>Feature</td>\n",
       "      <td>Continuous</td>\n",
       "      <td>None</td>\n",
       "      <td>None</td>\n",
       "      <td>Nm</td>\n",
       "      <td>no</td>\n",
       "    </tr>\n",
       "    <tr>\n",
       "      <th>7</th>\n",
       "      <td>Tool wear</td>\n",
       "      <td>Feature</td>\n",
       "      <td>Integer</td>\n",
       "      <td>None</td>\n",
       "      <td>None</td>\n",
       "      <td>min</td>\n",
       "      <td>no</td>\n",
       "    </tr>\n",
       "    <tr>\n",
       "      <th>8</th>\n",
       "      <td>Machine failure</td>\n",
       "      <td>Target</td>\n",
       "      <td>Integer</td>\n",
       "      <td>None</td>\n",
       "      <td>None</td>\n",
       "      <td>None</td>\n",
       "      <td>no</td>\n",
       "    </tr>\n",
       "    <tr>\n",
       "      <th>9</th>\n",
       "      <td>TWF</td>\n",
       "      <td>Target</td>\n",
       "      <td>Integer</td>\n",
       "      <td>None</td>\n",
       "      <td>None</td>\n",
       "      <td>None</td>\n",
       "      <td>no</td>\n",
       "    </tr>\n",
       "    <tr>\n",
       "      <th>10</th>\n",
       "      <td>HDF</td>\n",
       "      <td>Target</td>\n",
       "      <td>Integer</td>\n",
       "      <td>None</td>\n",
       "      <td>None</td>\n",
       "      <td>None</td>\n",
       "      <td>no</td>\n",
       "    </tr>\n",
       "    <tr>\n",
       "      <th>11</th>\n",
       "      <td>PWF</td>\n",
       "      <td>Target</td>\n",
       "      <td>Integer</td>\n",
       "      <td>None</td>\n",
       "      <td>None</td>\n",
       "      <td>None</td>\n",
       "      <td>no</td>\n",
       "    </tr>\n",
       "    <tr>\n",
       "      <th>12</th>\n",
       "      <td>OSF</td>\n",
       "      <td>Target</td>\n",
       "      <td>Integer</td>\n",
       "      <td>None</td>\n",
       "      <td>None</td>\n",
       "      <td>None</td>\n",
       "      <td>no</td>\n",
       "    </tr>\n",
       "    <tr>\n",
       "      <th>13</th>\n",
       "      <td>RNF</td>\n",
       "      <td>Target</td>\n",
       "      <td>Integer</td>\n",
       "      <td>None</td>\n",
       "      <td>None</td>\n",
       "      <td>None</td>\n",
       "      <td>no</td>\n",
       "    </tr>\n",
       "  </tbody>\n",
       "</table>\n",
       "</div>"
      ],
      "text/plain": [
       "                   name     role         type demographic description units  \\\n",
       "0                   UID       ID      Integer        None        None  None   \n",
       "1            Product ID       ID  Categorical        None        None  None   \n",
       "2                  Type  Feature  Categorical        None        None  None   \n",
       "3       Air temperature  Feature   Continuous        None        None     K   \n",
       "4   Process temperature  Feature   Continuous        None        None     K   \n",
       "5      Rotational speed  Feature      Integer        None        None   rpm   \n",
       "6                Torque  Feature   Continuous        None        None    Nm   \n",
       "7             Tool wear  Feature      Integer        None        None   min   \n",
       "8       Machine failure   Target      Integer        None        None  None   \n",
       "9                   TWF   Target      Integer        None        None  None   \n",
       "10                  HDF   Target      Integer        None        None  None   \n",
       "11                  PWF   Target      Integer        None        None  None   \n",
       "12                  OSF   Target      Integer        None        None  None   \n",
       "13                  RNF   Target      Integer        None        None  None   \n",
       "\n",
       "   missing_values  \n",
       "0              no  \n",
       "1              no  \n",
       "2              no  \n",
       "3              no  \n",
       "4              no  \n",
       "5              no  \n",
       "6              no  \n",
       "7              no  \n",
       "8              no  \n",
       "9              no  \n",
       "10             no  \n",
       "11             no  \n",
       "12             no  \n",
       "13             no  "
      ]
     },
     "execution_count": 5,
     "metadata": {},
     "output_type": "execute_result"
    }
   ],
   "source": [
    "# View all detailed variable information from UCI ML Repository\n",
    "ai4i_2020_predictive_maintenance_dataset.variables"
   ]
  },
  {
   "cell_type": "code",
   "execution_count": 6,
   "metadata": {},
   "outputs": [
    {
     "name": "stdout",
     "output_type": "stream",
     "text": [
      "<class 'pandas.core.frame.DataFrame'>\n",
      "RangeIndex: 10000 entries, 0 to 9999\n",
      "Data columns (total 14 columns):\n",
      " #   Column               Non-Null Count  Dtype  \n",
      "---  ------               --------------  -----  \n",
      " 0   UID                  10000 non-null  int64  \n",
      " 1   Product ID           10000 non-null  object \n",
      " 2   Type                 10000 non-null  object \n",
      " 3   Air temperature      10000 non-null  float64\n",
      " 4   Process temperature  10000 non-null  float64\n",
      " 5   Rotational speed     10000 non-null  int64  \n",
      " 6   Torque               10000 non-null  float64\n",
      " 7   Tool wear            10000 non-null  int64  \n",
      " 8   Machine failure      10000 non-null  int64  \n",
      " 9   TWF                  10000 non-null  int64  \n",
      " 10  HDF                  10000 non-null  int64  \n",
      " 11  PWF                  10000 non-null  int64  \n",
      " 12  OSF                  10000 non-null  int64  \n",
      " 13  RNF                  10000 non-null  int64  \n",
      "dtypes: float64(3), int64(9), object(2)\n",
      "memory usage: 1.1+ MB\n"
     ]
    }
   ],
   "source": [
    "# Detailed variable information of pandas dataframe\n",
    "dataset.info()"
   ]
  },
  {
   "cell_type": "code",
   "execution_count": 7,
   "metadata": {},
   "outputs": [
    {
     "name": "stdout",
     "output_type": "stream",
     "text": [
      "Unique value of variable Type: ['M' 'L' 'H']\n",
      "Unique value of variable Machine failure: [0 1]\n",
      "Unique value of variable TWF: [0 1]\n",
      "Unique value of variable HDF: [0 1]\n",
      "Unique value of variable PWF: [0 1]\n",
      "Unique value of variable OSF: [0 1]\n",
      "Unique value of variable RNF: [0 1]\n"
     ]
    }
   ],
   "source": [
    "# View unique values ​​in Type and target variables\n",
    "print(f\"Unique value of variable Type: {X['Type'].unique()}\")\n",
    "for var in y.columns:\n",
    "    print(f\"Unique value of variable {var}: {y[var].unique()}\")"
   ]
  },
  {
   "cell_type": "markdown",
   "metadata": {},
   "source": [
    "Based on examples of data content and detailed variable information, some information is obtained.\n",
    "\n",
    "- The dataset contains 14 variables\n",
    "  - 2 ID Variables\n",
    "  - 6 feature variables\n",
    "  - 6 Target variables\n",
    "- There are no `null` values ​​in the dataset\n",
    "- Feature and target variables have the data type number\n",
    "  - Except for var `Type` which is of categorical type `['M' 'L' 'H']`\n",
    "  - The target variable is of integer type `[0 1]`"
   ]
  },
  {
   "cell_type": "markdown",
   "metadata": {},
   "source": [
    "Data preparation steps\n",
    "- Both ID variables are not needed in the ML training process\n",
    "- Because in this assignment the only target variable is `Machine failure`, the other five target variables will be deleted\n",
    "- To make it easier to train data in ML, the `Type` variable needs to be encoded into a number. Because 'L' means Low, 'M' means Medium, and 'H' means High, there is ordering in these variables. So the type of encoding that will be carried out is Label Encoding"
   ]
  },
  {
   "cell_type": "markdown",
   "metadata": {},
   "source": [
    "## **Explanatory Data Analysis**"
   ]
  },
  {
   "cell_type": "code",
   "execution_count": 8,
   "metadata": {},
   "outputs": [
    {
     "data": {
      "text/html": [
       "<div>\n",
       "<style scoped>\n",
       "    .dataframe tbody tr th:only-of-type {\n",
       "        vertical-align: middle;\n",
       "    }\n",
       "\n",
       "    .dataframe tbody tr th {\n",
       "        vertical-align: top;\n",
       "    }\n",
       "\n",
       "    .dataframe thead th {\n",
       "        text-align: right;\n",
       "    }\n",
       "</style>\n",
       "<table border=\"1\" class=\"dataframe\">\n",
       "  <thead>\n",
       "    <tr style=\"text-align: right;\">\n",
       "      <th></th>\n",
       "      <th>UID</th>\n",
       "      <th>Air temperature</th>\n",
       "      <th>Process temperature</th>\n",
       "      <th>Rotational speed</th>\n",
       "      <th>Torque</th>\n",
       "      <th>Tool wear</th>\n",
       "      <th>Machine failure</th>\n",
       "      <th>TWF</th>\n",
       "      <th>HDF</th>\n",
       "      <th>PWF</th>\n",
       "      <th>OSF</th>\n",
       "      <th>RNF</th>\n",
       "    </tr>\n",
       "  </thead>\n",
       "  <tbody>\n",
       "    <tr>\n",
       "      <th>count</th>\n",
       "      <td>10000.00</td>\n",
       "      <td>10000.0</td>\n",
       "      <td>10000.00</td>\n",
       "      <td>10000.00</td>\n",
       "      <td>10000.00</td>\n",
       "      <td>10000.00</td>\n",
       "      <td>10000.00</td>\n",
       "      <td>10000.00</td>\n",
       "      <td>10000.00</td>\n",
       "      <td>10000.00</td>\n",
       "      <td>10000.00</td>\n",
       "      <td>10000.00</td>\n",
       "    </tr>\n",
       "    <tr>\n",
       "      <th>mean</th>\n",
       "      <td>5000.50</td>\n",
       "      <td>300.0</td>\n",
       "      <td>310.01</td>\n",
       "      <td>1538.78</td>\n",
       "      <td>39.99</td>\n",
       "      <td>107.95</td>\n",
       "      <td>0.03</td>\n",
       "      <td>0.00</td>\n",
       "      <td>0.01</td>\n",
       "      <td>0.01</td>\n",
       "      <td>0.01</td>\n",
       "      <td>0.00</td>\n",
       "    </tr>\n",
       "    <tr>\n",
       "      <th>std</th>\n",
       "      <td>2886.90</td>\n",
       "      <td>2.0</td>\n",
       "      <td>1.48</td>\n",
       "      <td>179.28</td>\n",
       "      <td>9.97</td>\n",
       "      <td>63.65</td>\n",
       "      <td>0.18</td>\n",
       "      <td>0.07</td>\n",
       "      <td>0.11</td>\n",
       "      <td>0.10</td>\n",
       "      <td>0.10</td>\n",
       "      <td>0.04</td>\n",
       "    </tr>\n",
       "    <tr>\n",
       "      <th>min</th>\n",
       "      <td>1.00</td>\n",
       "      <td>295.3</td>\n",
       "      <td>305.70</td>\n",
       "      <td>1168.00</td>\n",
       "      <td>3.80</td>\n",
       "      <td>0.00</td>\n",
       "      <td>0.00</td>\n",
       "      <td>0.00</td>\n",
       "      <td>0.00</td>\n",
       "      <td>0.00</td>\n",
       "      <td>0.00</td>\n",
       "      <td>0.00</td>\n",
       "    </tr>\n",
       "    <tr>\n",
       "      <th>25%</th>\n",
       "      <td>2500.75</td>\n",
       "      <td>298.3</td>\n",
       "      <td>308.80</td>\n",
       "      <td>1423.00</td>\n",
       "      <td>33.20</td>\n",
       "      <td>53.00</td>\n",
       "      <td>0.00</td>\n",
       "      <td>0.00</td>\n",
       "      <td>0.00</td>\n",
       "      <td>0.00</td>\n",
       "      <td>0.00</td>\n",
       "      <td>0.00</td>\n",
       "    </tr>\n",
       "    <tr>\n",
       "      <th>50%</th>\n",
       "      <td>5000.50</td>\n",
       "      <td>300.1</td>\n",
       "      <td>310.10</td>\n",
       "      <td>1503.00</td>\n",
       "      <td>40.10</td>\n",
       "      <td>108.00</td>\n",
       "      <td>0.00</td>\n",
       "      <td>0.00</td>\n",
       "      <td>0.00</td>\n",
       "      <td>0.00</td>\n",
       "      <td>0.00</td>\n",
       "      <td>0.00</td>\n",
       "    </tr>\n",
       "    <tr>\n",
       "      <th>75%</th>\n",
       "      <td>7500.25</td>\n",
       "      <td>301.5</td>\n",
       "      <td>311.10</td>\n",
       "      <td>1612.00</td>\n",
       "      <td>46.80</td>\n",
       "      <td>162.00</td>\n",
       "      <td>0.00</td>\n",
       "      <td>0.00</td>\n",
       "      <td>0.00</td>\n",
       "      <td>0.00</td>\n",
       "      <td>0.00</td>\n",
       "      <td>0.00</td>\n",
       "    </tr>\n",
       "    <tr>\n",
       "      <th>max</th>\n",
       "      <td>10000.00</td>\n",
       "      <td>304.5</td>\n",
       "      <td>313.80</td>\n",
       "      <td>2886.00</td>\n",
       "      <td>76.60</td>\n",
       "      <td>253.00</td>\n",
       "      <td>1.00</td>\n",
       "      <td>1.00</td>\n",
       "      <td>1.00</td>\n",
       "      <td>1.00</td>\n",
       "      <td>1.00</td>\n",
       "      <td>1.00</td>\n",
       "    </tr>\n",
       "  </tbody>\n",
       "</table>\n",
       "</div>"
      ],
      "text/plain": [
       "            UID  Air temperature  Process temperature  Rotational speed  \\\n",
       "count  10000.00          10000.0             10000.00          10000.00   \n",
       "mean    5000.50            300.0               310.01           1538.78   \n",
       "std     2886.90              2.0                 1.48            179.28   \n",
       "min        1.00            295.3               305.70           1168.00   \n",
       "25%     2500.75            298.3               308.80           1423.00   \n",
       "50%     5000.50            300.1               310.10           1503.00   \n",
       "75%     7500.25            301.5               311.10           1612.00   \n",
       "max    10000.00            304.5               313.80           2886.00   \n",
       "\n",
       "         Torque  Tool wear  Machine failure       TWF       HDF       PWF  \\\n",
       "count  10000.00   10000.00         10000.00  10000.00  10000.00  10000.00   \n",
       "mean      39.99     107.95             0.03      0.00      0.01      0.01   \n",
       "std        9.97      63.65             0.18      0.07      0.11      0.10   \n",
       "min        3.80       0.00             0.00      0.00      0.00      0.00   \n",
       "25%       33.20      53.00             0.00      0.00      0.00      0.00   \n",
       "50%       40.10     108.00             0.00      0.00      0.00      0.00   \n",
       "75%       46.80     162.00             0.00      0.00      0.00      0.00   \n",
       "max       76.60     253.00             1.00      1.00      1.00      1.00   \n",
       "\n",
       "            OSF       RNF  \n",
       "count  10000.00  10000.00  \n",
       "mean       0.01      0.00  \n",
       "std        0.10      0.04  \n",
       "min        0.00      0.00  \n",
       "25%        0.00      0.00  \n",
       "50%        0.00      0.00  \n",
       "75%        0.00      0.00  \n",
       "max        1.00      1.00  "
      ]
     },
     "execution_count": 8,
     "metadata": {},
     "output_type": "execute_result"
    }
   ],
   "source": [
    "dataset.describe().round(2)"
   ]
  },
  {
   "cell_type": "code",
   "execution_count": 9,
   "metadata": {},
   "outputs": [
    {
     "data": {
      "text/plain": [
       "array([[<Axes: title={'center': 'Air temperature'}>,\n",
       "        <Axes: title={'center': 'Process temperature'}>],\n",
       "       [<Axes: title={'center': 'Rotational speed'}>,\n",
       "        <Axes: title={'center': 'Torque'}>],\n",
       "       [<Axes: title={'center': 'Tool wear'}>, <Axes: >]], dtype=object)"
      ]
     },
     "execution_count": 9,
     "metadata": {},
     "output_type": "execute_result"
    },
    {
     "data": {
      "image/png": "[encoded data removed]",
      "text/plain": [
       "<Figure size 1500x1000 with 6 Axes>"
      ]
     },
     "metadata": {},
     "output_type": "display_data"
    }
   ],
   "source": [
    "# View the histogram of the numeric feature variable\n",
    "X.hist(bins=30, figsize=(15, 10))"
   ]
  },
  {
   "cell_type": "code",
   "execution_count": 10,
   "metadata": {},
   "outputs": [
    {
     "data": {
      "image/png": "[encoded data removed]",
      "text/plain": [
       "<Figure size 800x400 with 2 Axes>"
      ]
     },
     "metadata": {},
     "output_type": "display_data"
    }
   ],
   "source": [
    "# Bar chart for feature variable 'Type' and target 'Machine failure'\n",
    "categorical_column = ['Type', 'Machine failure']\n",
    "\n",
    "plt.figure(num=None, figsize=(8, 4))\n",
    "\n",
    "for i in range(len(categorical_column)):\n",
    "    plt.subplot(1, 2, i+1)\n",
    "    plt.subplots_adjust(wspace=0.4) \n",
    "    plt.bar(original[categorical_column[i]].unique(),\n",
    "            original[categorical_column[i]].value_counts(), width=0.5)\n",
    "    plt.xlabel(categorical_column[i])"
   ]
  },
  {
   "cell_type": "code",
   "execution_count": 11,
   "metadata": {},
   "outputs": [
    {
     "data": {
      "image/png": "[encoded data removed]",
      "text/plain": [
       "<Figure size 1000x600 with 5 Axes>"
      ]
     },
     "metadata": {},
     "output_type": "display_data"
    }
   ],
   "source": [
    "# Boxplot visualization of all numeric feature variables\n",
    "X.plot(kind='box', subplots=True, sharey=False, figsize=(10, 6))\n",
    "plt.subplots_adjust(wspace=0.5) \n",
    "plt.show()"
   ]
  },
  {
   "cell_type": "code",
   "execution_count": 12,
   "metadata": {},
   "outputs": [
    {
     "data": {
      "text/plain": [
       "Rotational speed    4.18%\n",
       "dtype: object"
      ]
     },
     "metadata": {},
     "output_type": "display_data"
    },
    {
     "data": {
      "text/plain": [
       "Torque    0.69%\n",
       "dtype: object"
      ]
     },
     "metadata": {},
     "output_type": "display_data"
    }
   ],
   "source": [
    "# Get the percentage of outlier data on the variables 'Rotational speed' and 'Torque'\n",
    "outlier_columns = ['Rotational speed', 'Torque']\n",
    "\n",
    "# Get outlier limits\n",
    "def outlier_bound(datacolumn):\n",
    "  sorted(datacolumn)  # Memastikan data sudah urut\n",
    "  Q1, Q3 = np.percentile(datacolumn , [25,75])\n",
    "  IQR = Q3 - Q1\n",
    "  lower_bound = Q1 - (1.5 * IQR)\n",
    "  upper_bound = Q3 + (1.5 * IQR)\n",
    "  return lower_bound, upper_bound\n",
    "\n",
    "# Check the percentage of outlier values ​​in the following two variables\n",
    "for column in outlier_columns:\n",
    "  lower_bound, upper_bound = outlier_bound(X[column])\n",
    "  display(((X[[column]] < lower_bound) | (X[[column]] > upper_bound)).sum().apply(lambda x: '{:.2f}%'.format(x/len(X)*100)))"
   ]
  },
  {
   "cell_type": "code",
   "execution_count": 13,
   "metadata": {},
   "outputs": [
    {
     "data": {
      "text/plain": [
       "<Axes: >"
      ]
     },
     "execution_count": 13,
     "metadata": {},
     "output_type": "execute_result"
    },
    {
     "data": {
      "image/png": "[encoded data removed]",
      "text/plain": [
       "<Figure size 700x700 with 2 Axes>"
      ]
     },
     "metadata": {},
     "output_type": "display_data"
    }
   ],
   "source": [
    "# Calculates the correlation matrix for all numeric feature variables to the target\n",
    "columns = ['Air temperature', 'Process temperature', \n",
    "           'Rotational speed', 'Torque', 'Tool wear', 'Machine failure']\n",
    "\n",
    "correlation_matrix = original[columns].corr()\n",
    "\n",
    "# Heatmap correlation matrix visualization\n",
    "plt.figure(figsize = (7, 7))\n",
    "sns.heatmap(correlation_matrix, annot=True, cmap='coolwarm')"
   ]
  },
  {
   "cell_type": "markdown",
   "metadata": {},
   "source": [
    "Based on the EDA that has been carried out, several information has been obtained.\n",
    "- Feature data is quite well distributed\n",
    "- `Machine failure` target data is very unbalanced\n",
    "- There are outliers in the `Rotational speed` and `Torque` features, amounting to 4.18% and 0.69%\n",
    "- There are no features that have a strong relationship with the target\n",
    "- There is a strong relationship between each feature\n",
    "  - `Air temperature` and `Process temperature`: 0.88\n",
    "  - `Rotational speed` and `Torque`: -0.88"
   ]
  },
  {
   "cell_type": "markdown",
   "metadata": {},
   "source": [
    "Data preparation steps\n",
    "- Because the number of outliers is very small (x < 5%), the outlier rows can be deleted\n",
    "- Because there are two pairs of features that are strongly related to each other (collinear), one feature from each pair can be deleted to avoid redundancy. The features that will be deleted are those that have the lowest relationship value with the target variable, namely `Process temperature` and `Torque`\n",
    "- It is necessary to balance the data based on the target variable `Machine failure`"
   ]
  },
  {
   "cell_type": "markdown",
   "metadata": {},
   "source": [
    "# **Prepare the Data**"
   ]
  },
  {
   "cell_type": "markdown",
   "metadata": {},
   "source": [
    "## **Delete Unused Variables**"
   ]
  },
  {
   "cell_type": "code",
   "execution_count": 14,
   "metadata": {},
   "outputs": [
    {
     "name": "stdout",
     "output_type": "stream",
     "text": [
      "Remaining variables: ['Type', 'Air temperature', 'Rotational speed', 'Tool wear', 'Machine failure']\n"
     ]
    }
   ],
   "source": [
    "# Remove unnecessary variables\n",
    "dataset = dataset.drop(['UID', 'Product ID', 'Process temperature', 'Torque'], axis=1)\n",
    "dataset = dataset.drop(['TWF', 'HDF', 'PWF', 'OSF', 'RNF'], axis=1)\n",
    "\n",
    "# Remaining variables\n",
    "print(f\"Remaining variables: {list(dataset.columns)}\")"
   ]
  },
  {
   "cell_type": "markdown",
   "metadata": {},
   "source": [
    "## **Delete Outliers**"
   ]
  },
  {
   "cell_type": "code",
   "execution_count": 15,
   "metadata": {},
   "outputs": [
    {
     "name": "stdout",
     "output_type": "stream",
     "text": [
      "Amount of data before removing outliers: 10000\n",
      "Amount of data after removing outliers: 9582\n"
     ]
    }
   ],
   "source": [
    "outlier_columns = ['Rotational speed'] # Torque has been removed\n",
    "print(f\"Amount of data before removing outliers: {len(dataset)}\")\n",
    "\n",
    "# Remove outliers\n",
    "for column in outlier_columns:\n",
    "  lower_bound, upper_bound = outlier_bound(dataset[column])\n",
    "  dataset = dataset.drop(dataset[(dataset[column] < lower_bound) | (dataset[column] > upper_bound)].index)\\\n",
    "    .reset_index(inplace=False, drop=True)\n",
    "\n",
    "print(f\"Amount of data after removing outliers: {len(dataset)}\")"
   ]
  },
  {
   "cell_type": "markdown",
   "metadata": {},
   "source": [
    "## **Label Encoding**"
   ]
  },
  {
   "cell_type": "markdown",
   "metadata": {},
   "source": [
    "There is still a categorical data type in the `Type` variable. Therefore, these variables need to be converted to numeric by encoding. Because the value 'L' means Low, 'M' means Medium, and 'H' means High, there is an ordering in these variables. So the type of encoding that will be carried out is Label Encoding."
   ]
  },
  {
   "cell_type": "code",
   "execution_count": 16,
   "metadata": {},
   "outputs": [
    {
     "data": {
      "text/html": [
       "<div>\n",
       "<style scoped>\n",
       "    .dataframe tbody tr th:only-of-type {\n",
       "        vertical-align: middle;\n",
       "    }\n",
       "\n",
       "    .dataframe tbody tr th {\n",
       "        vertical-align: top;\n",
       "    }\n",
       "\n",
       "    .dataframe thead th {\n",
       "        text-align: right;\n",
       "    }\n",
       "</style>\n",
       "<table border=\"1\" class=\"dataframe\">\n",
       "  <thead>\n",
       "    <tr style=\"text-align: right;\">\n",
       "      <th></th>\n",
       "      <th>Type</th>\n",
       "      <th>Air temperature</th>\n",
       "      <th>Rotational speed</th>\n",
       "      <th>Tool wear</th>\n",
       "      <th>Machine failure</th>\n",
       "    </tr>\n",
       "  </thead>\n",
       "  <tbody>\n",
       "    <tr>\n",
       "      <th>1229</th>\n",
       "      <td>2</td>\n",
       "      <td>298.3</td>\n",
       "      <td>1427</td>\n",
       "      <td>89</td>\n",
       "      <td>0</td>\n",
       "    </tr>\n",
       "    <tr>\n",
       "      <th>7502</th>\n",
       "      <td>2</td>\n",
       "      <td>300.2</td>\n",
       "      <td>1547</td>\n",
       "      <td>217</td>\n",
       "      <td>0</td>\n",
       "    </tr>\n",
       "    <tr>\n",
       "      <th>9381</th>\n",
       "      <td>1</td>\n",
       "      <td>298.5</td>\n",
       "      <td>1521</td>\n",
       "      <td>94</td>\n",
       "      <td>0</td>\n",
       "    </tr>\n",
       "    <tr>\n",
       "      <th>6420</th>\n",
       "      <td>0</td>\n",
       "      <td>301.3</td>\n",
       "      <td>1440</td>\n",
       "      <td>90</td>\n",
       "      <td>0</td>\n",
       "    </tr>\n",
       "    <tr>\n",
       "      <th>5662</th>\n",
       "      <td>0</td>\n",
       "      <td>300.6</td>\n",
       "      <td>1541</td>\n",
       "      <td>23</td>\n",
       "      <td>0</td>\n",
       "    </tr>\n",
       "  </tbody>\n",
       "</table>\n",
       "</div>"
      ],
      "text/plain": [
       "      Type  Air temperature  Rotational speed  Tool wear  Machine failure\n",
       "1229     2            298.3              1427         89                0\n",
       "7502     2            300.2              1547        217                0\n",
       "9381     1            298.5              1521         94                0\n",
       "6420     0            301.3              1440         90                0\n",
       "5662     0            300.6              1541         23                0"
      ]
     },
     "execution_count": 16,
     "metadata": {},
     "output_type": "execute_result"
    }
   ],
   "source": [
    "dataset = dataset.replace({'Type' : {'L': 0 , 'M': 1, 'H': 2}})\n",
    "dataset.sample(5)"
   ]
  },
  {
   "cell_type": "markdown",
   "metadata": {},
   "source": [
    "## **Delete Duplicate Values**"
   ]
  },
  {
   "cell_type": "code",
   "execution_count": 17,
   "metadata": {},
   "outputs": [
    {
     "name": "stdout",
     "output_type": "stream",
     "text": [
      "Amount of data before deleting duplicate data: 9582\n",
      "Number of duplicate data: 1\n",
      "Amount of data after deleting duplicate data: 9581\n"
     ]
    }
   ],
   "source": [
    "# Check and delete duplicate data in the feature\n",
    "print(f\"Amount of data before deleting duplicate data: {len(dataset)}\")\n",
    "print(f\"Number of duplicate data: {dataset.duplicated().sum()}\")\n",
    "dataset = dataset.drop_duplicates().reset_index(inplace=False, drop=True)\n",
    "\n",
    "print(f\"Amount of data after deleting duplicate data: {len(dataset)}\")"
   ]
  },
  {
   "cell_type": "markdown",
   "metadata": {},
   "source": [
    "## **Data Balancing**"
   ]
  },
  {
   "cell_type": "markdown",
   "metadata": {},
   "source": [
    "Because the target variable has a very unbalanced distribution, balancing is necessary."
   ]
  },
  {
   "cell_type": "code",
   "execution_count": 18,
   "metadata": {},
   "outputs": [],
   "source": [
    "# Separating features and target\n",
    "X_new = dataset.drop('Machine failure', axis=1)  # feature\n",
    "y_new = dataset['Machine failure']               # target\n",
    "\n",
    "X_new.reset_index(drop=True, inplace=True)\n",
    "y_new.reset_index(drop=True, inplace=True)"
   ]
  },
  {
   "cell_type": "code",
   "execution_count": 19,
   "metadata": {},
   "outputs": [
    {
     "data": {
      "text/plain": [
       "Machine failure\n",
       "0    9277\n",
       "1    9277\n",
       "Name: count, dtype: int64"
      ]
     },
     "execution_count": 19,
     "metadata": {},
     "output_type": "execute_result"
    }
   ],
   "source": [
    "# Balances the value of the target variable\n",
    "balancer = RandomOverSampler(random_state=42)\n",
    "X_balanced, y_balanced = balancer.fit_resample(X_new, y_new)\n",
    "y_balanced.value_counts()"
   ]
  },
  {
   "cell_type": "markdown",
   "metadata": {},
   "source": [
    "## **Data Splitting**"
   ]
  },
  {
   "cell_type": "markdown",
   "metadata": {},
   "source": [
    "Divide the dataset into 80% training data and 20% testing data. Data division is carried out based on the ratio of the target variable."
   ]
  },
  {
   "cell_type": "code",
   "execution_count": 20,
   "metadata": {},
   "outputs": [
    {
     "name": "stdout",
     "output_type": "stream",
     "text": [
      "Data training: 14843\n",
      "Data testing: 3611\n"
     ]
    }
   ],
   "source": [
    "X_train, X_test, y_train, y_test = train_test_split(X_balanced, y_balanced, test_size=0.2, random_state=42, stratify=y_balanced)\n",
    "new_feature = X_test.tail(100)  # Take 100 feature tests to simulate new data (see New Data Simulation section)\n",
    "new_target = y_test.tail(100)  # Take 100 feature tests to simulate new data (see New Data Simulation section)\n",
    "X_test = X_test[:-100]\n",
    "y_test = y_test[:-100]\n",
    "print(f\"Data training: {len(X_train)}\")\n",
    "print(f\"Data testing: {len(X_test)}\")"
   ]
  },
  {
   "cell_type": "markdown",
   "metadata": {},
   "source": [
    "## **Data Scaling**"
   ]
  },
  {
   "cell_type": "markdown",
   "metadata": {},
   "source": [
    "Scaling the data so that it has a range that is not much different."
   ]
  },
  {
   "cell_type": "code",
   "execution_count": 21,
   "metadata": {},
   "outputs": [
    {
     "data": {
      "text/html": [
       "<div>\n",
       "<style scoped>\n",
       "    .dataframe tbody tr th:only-of-type {\n",
       "        vertical-align: middle;\n",
       "    }\n",
       "\n",
       "    .dataframe tbody tr th {\n",
       "        vertical-align: top;\n",
       "    }\n",
       "\n",
       "    .dataframe thead th {\n",
       "        text-align: right;\n",
       "    }\n",
       "</style>\n",
       "<table border=\"1\" class=\"dataframe\">\n",
       "  <thead>\n",
       "    <tr style=\"text-align: right;\">\n",
       "      <th></th>\n",
       "      <th>Type</th>\n",
       "      <th>Air temperature</th>\n",
       "      <th>Rotational speed</th>\n",
       "      <th>Tool wear</th>\n",
       "    </tr>\n",
       "  </thead>\n",
       "  <tbody>\n",
       "    <tr>\n",
       "      <th>count</th>\n",
       "      <td>14843.000000</td>\n",
       "      <td>14843.000000</td>\n",
       "      <td>14843.000000</td>\n",
       "      <td>14843.000000</td>\n",
       "    </tr>\n",
       "    <tr>\n",
       "      <th>mean</th>\n",
       "      <td>0.432392</td>\n",
       "      <td>300.471542</td>\n",
       "      <td>1445.762110</td>\n",
       "      <td>127.009702</td>\n",
       "    </tr>\n",
       "    <tr>\n",
       "      <th>std</th>\n",
       "      <td>0.643445</td>\n",
       "      <td>2.078444</td>\n",
       "      <td>135.302353</td>\n",
       "      <td>70.631711</td>\n",
       "    </tr>\n",
       "    <tr>\n",
       "      <th>min</th>\n",
       "      <td>0.000000</td>\n",
       "      <td>295.300000</td>\n",
       "      <td>1181.000000</td>\n",
       "      <td>0.000000</td>\n",
       "    </tr>\n",
       "    <tr>\n",
       "      <th>25%</th>\n",
       "      <td>0.000000</td>\n",
       "      <td>298.700000</td>\n",
       "      <td>1350.000000</td>\n",
       "      <td>65.000000</td>\n",
       "    </tr>\n",
       "    <tr>\n",
       "      <th>50%</th>\n",
       "      <td>0.000000</td>\n",
       "      <td>300.600000</td>\n",
       "      <td>1407.000000</td>\n",
       "      <td>133.000000</td>\n",
       "    </tr>\n",
       "    <tr>\n",
       "      <th>75%</th>\n",
       "      <td>1.000000</td>\n",
       "      <td>302.300000</td>\n",
       "      <td>1524.000000</td>\n",
       "      <td>195.000000</td>\n",
       "    </tr>\n",
       "    <tr>\n",
       "      <th>max</th>\n",
       "      <td>2.000000</td>\n",
       "      <td>304.500000</td>\n",
       "      <td>1895.000000</td>\n",
       "      <td>253.000000</td>\n",
       "    </tr>\n",
       "  </tbody>\n",
       "</table>\n",
       "</div>"
      ],
      "text/plain": [
       "               Type  Air temperature  Rotational speed     Tool wear\n",
       "count  14843.000000     14843.000000      14843.000000  14843.000000\n",
       "mean       0.432392       300.471542       1445.762110    127.009702\n",
       "std        0.643445         2.078444        135.302353     70.631711\n",
       "min        0.000000       295.300000       1181.000000      0.000000\n",
       "25%        0.000000       298.700000       1350.000000     65.000000\n",
       "50%        0.000000       300.600000       1407.000000    133.000000\n",
       "75%        1.000000       302.300000       1524.000000    195.000000\n",
       "max        2.000000       304.500000       1895.000000    253.000000"
      ]
     },
     "execution_count": 21,
     "metadata": {},
     "output_type": "execute_result"
    }
   ],
   "source": [
    "# Data before scaling\n",
    "X_train.describe()"
   ]
  },
  {
   "cell_type": "code",
   "execution_count": 22,
   "metadata": {},
   "outputs": [],
   "source": [
    "standard_scaler = StandardScaler()\n",
    "X_train[['Air temperature', 'Rotational speed']] = standard_scaler.fit_transform(X_train[['Air temperature', 'Rotational speed']])\n",
    "X_test[['Air temperature', 'Rotational speed']] = standard_scaler.transform(X_test[['Air temperature', 'Rotational speed']])"
   ]
  },
  {
   "cell_type": "code",
   "execution_count": 23,
   "metadata": {},
   "outputs": [],
   "source": [
    "minmax_scaler = MinMaxScaler()\n",
    "X_train[['Tool wear', 'Type']] = minmax_scaler.fit_transform(X_train[['Tool wear', 'Type']])\n",
    "X_test[['Tool wear', 'Type']] = minmax_scaler.transform(X_test[['Tool wear', 'Type']])"
   ]
  },
  {
   "cell_type": "code",
   "execution_count": 24,
   "metadata": {},
   "outputs": [
    {
     "data": {
      "text/html": [
       "<div>\n",
       "<style scoped>\n",
       "    .dataframe tbody tr th:only-of-type {\n",
       "        vertical-align: middle;\n",
       "    }\n",
       "\n",
       "    .dataframe tbody tr th {\n",
       "        vertical-align: top;\n",
       "    }\n",
       "\n",
       "    .dataframe thead th {\n",
       "        text-align: right;\n",
       "    }\n",
       "</style>\n",
       "<table border=\"1\" class=\"dataframe\">\n",
       "  <thead>\n",
       "    <tr style=\"text-align: right;\">\n",
       "      <th></th>\n",
       "      <th>Type</th>\n",
       "      <th>Air temperature</th>\n",
       "      <th>Rotational speed</th>\n",
       "      <th>Tool wear</th>\n",
       "    </tr>\n",
       "  </thead>\n",
       "  <tbody>\n",
       "    <tr>\n",
       "      <th>count</th>\n",
       "      <td>14843.000000</td>\n",
       "      <td>1.484300e+04</td>\n",
       "      <td>1.484300e+04</td>\n",
       "      <td>14843.000000</td>\n",
       "    </tr>\n",
       "    <tr>\n",
       "      <th>mean</th>\n",
       "      <td>0.216196</td>\n",
       "      <td>2.250012e-14</td>\n",
       "      <td>1.385853e-16</td>\n",
       "      <td>0.502015</td>\n",
       "    </tr>\n",
       "    <tr>\n",
       "      <th>std</th>\n",
       "      <td>0.321722</td>\n",
       "      <td>1.000034e+00</td>\n",
       "      <td>1.000034e+00</td>\n",
       "      <td>0.279177</td>\n",
       "    </tr>\n",
       "    <tr>\n",
       "      <th>min</th>\n",
       "      <td>0.000000</td>\n",
       "      <td>-2.488263e+00</td>\n",
       "      <td>-1.956884e+00</td>\n",
       "      <td>0.000000</td>\n",
       "    </tr>\n",
       "    <tr>\n",
       "      <th>25%</th>\n",
       "      <td>0.000000</td>\n",
       "      <td>-8.523692e-01</td>\n",
       "      <td>-7.077877e-01</td>\n",
       "      <td>0.256917</td>\n",
       "    </tr>\n",
       "    <tr>\n",
       "      <th>50%</th>\n",
       "      <td>0.000000</td>\n",
       "      <td>6.180690e-02</td>\n",
       "      <td>-2.864948e-01</td>\n",
       "      <td>0.525692</td>\n",
       "    </tr>\n",
       "    <tr>\n",
       "      <th>75%</th>\n",
       "      <td>0.500000</td>\n",
       "      <td>8.797540e-01</td>\n",
       "      <td>5.782643e-01</td>\n",
       "      <td>0.770751</td>\n",
       "    </tr>\n",
       "    <tr>\n",
       "      <th>max</th>\n",
       "      <td>1.000000</td>\n",
       "      <td>1.938274e+00</td>\n",
       "      <td>3.320364e+00</td>\n",
       "      <td>1.000000</td>\n",
       "    </tr>\n",
       "  </tbody>\n",
       "</table>\n",
       "</div>"
      ],
      "text/plain": [
       "               Type  Air temperature  Rotational speed     Tool wear\n",
       "count  14843.000000     1.484300e+04      1.484300e+04  14843.000000\n",
       "mean       0.216196     2.250012e-14      1.385853e-16      0.502015\n",
       "std        0.321722     1.000034e+00      1.000034e+00      0.279177\n",
       "min        0.000000    -2.488263e+00     -1.956884e+00      0.000000\n",
       "25%        0.000000    -8.523692e-01     -7.077877e-01      0.256917\n",
       "50%        0.000000     6.180690e-02     -2.864948e-01      0.525692\n",
       "75%        0.500000     8.797540e-01      5.782643e-01      0.770751\n",
       "max        1.000000     1.938274e+00      3.320364e+00      1.000000"
      ]
     },
     "execution_count": 24,
     "metadata": {},
     "output_type": "execute_result"
    }
   ],
   "source": [
    "# Data after scaling\n",
    "X_train.describe()"
   ]
  },
  {
   "cell_type": "markdown",
   "metadata": {},
   "source": [
    "# **Explore Different Models**"
   ]
  },
  {
   "cell_type": "markdown",
   "metadata": {},
   "source": [
    "Trying to use various machine learning models for classification (default parameters) to predict the `Machine failure` variable."
   ]
  },
  {
   "cell_type": "code",
   "execution_count": 25,
   "metadata": {},
   "outputs": [],
   "source": [
    "# Instantiation of various classification models\n",
    "sgdc = SGDClassifier(random_state=42)\n",
    "lr = LogisticRegression(random_state=42)\n",
    "svc = SVC(random_state=42)\n",
    "dtc = DecisionTreeClassifier(random_state=42)\n",
    "rf = RandomForestClassifier(random_state=42)"
   ]
  },
  {
   "cell_type": "code",
   "execution_count": 26,
   "metadata": {},
   "outputs": [
    {
     "name": "stdout",
     "output_type": "stream",
     "text": [
      "Model          : SGDClassifier\n"
     ]
    },
    {
     "name": "stdout",
     "output_type": "stream",
     "text": [
      "fit_time       : [0.04901099 0.04100657 0.03200889 0.0550127  0.03600454]\n",
      "score_time     : [0.0150063  0.02000165 0.01200151 0.01400495 0.01702261]\n",
      "test_precision : [0.82325887 0.74495516 0.82881002 0.80126984 0.80986372]\n",
      "test_recall    : [0.84433962 0.89494949 0.8020202  0.85040431 0.84097035]\n",
      "test_f1        : [0.833666   0.81309269 0.81519507 0.82510624 0.82512397]\n",
      "test_accuracy  : [0.83159313 0.7942068  0.81812058 0.81974394 0.8217655 ]\n",
      "\n",
      "Model          : LogisticRegression\n",
      "fit_time       : [0.03700876 0.03600812 0.03893089 0.03701091 0.02068019]\n",
      "score_time     : [0.0200038  0.02000475 0.01993418 0.01300097 0.01200485]\n",
      "test_precision : [0.79351216 0.78974034 0.79633144 0.80681074 0.80207657]\n",
      "test_recall    : [0.85714286 0.83973064 0.84781145 0.83018868 0.8328841 ]\n",
      "test_f1        : [0.82410107 0.81396867 0.82126549 0.81833278 0.81719008]\n",
      "test_accuracy  : [0.81711014 0.80801617 0.81542607 0.81570081 0.81367925]\n",
      "\n",
      "Model          : SVC\n",
      "fit_time       : [2.85541725 1.96520853 1.80371356 1.78245234 1.81645799]\n",
      "score_time     : [1.57698512 1.25481486 1.16523242 1.1159668  1.05583167]\n",
      "test_precision : [0.87028458 0.85492228 0.86454958 0.87933333 0.86441799]\n",
      "test_recall    : [0.8861186  0.88888889 0.8983165  0.88881402 0.88072776]\n",
      "test_f1        : [0.87813022 0.87157478 0.88110964 0.88404826 0.87249666]\n",
      "test_accuracy  : [0.87706298 0.86897945 0.87874705 0.88342318 0.8712938 ]\n",
      "\n",
      "Model          : DecisionTreeClassifier\n",
      "fit_time       : [0.02000475 0.0200026  0.02000165 0.02000141 0.01999521]\n",
      "score_time     : [0.00800204 0.00802016 0.00800633 0.00799894 0.00800562]\n",
      "test_precision : [0.96866841 0.97440945 0.96553966 0.970569   0.97120419]\n",
      "test_recall    : [1. 1. 1. 1. 1.]\n",
      "test_f1        : [0.98408488 0.98703888 0.98246775 0.98506472 0.98539177]\n",
      "test_accuracy  : [0.98383294 0.98686426 0.98214887 0.98483827 0.9851752 ]\n",
      "\n",
      "Model          : RandomForestClassifier\n",
      "fit_time       : [1.04787779 1.09570742 0.95623541 0.93987489 1.02232099]\n",
      "score_time     : [0.04401445 0.0440197  0.03601241 0.04209113 0.04000974]\n",
      "test_precision : [0.97953795 0.97697368 0.96868885 0.97953795 0.97695853]\n",
      "test_recall    : [1. 1. 1. 1. 1.]\n",
      "test_f1        : [0.98966322 0.98835275 0.98409543 0.98966322 0.98834499]\n",
      "test_accuracy  : [0.98955877 0.98821152 0.98383294 0.98955526 0.98820755]\n",
      "\n"
     ]
    }
   ],
   "source": [
    "# Perform cross validation on all classification models\n",
    "models = [sgdc, lr, svc, dtc, rf]\n",
    "scoring = ['precision', 'recall', 'f1', 'accuracy']\n",
    "\n",
    "for model in models:\n",
    "    print(f\"{'Model':<15}: {type(model).__name__}\")\n",
    "    scores = cross_validate(model, X_train, y_train, cv=5, scoring=scoring)\n",
    "    for score in scores.keys():\n",
    "        print(f\"{score:<15}: {scores[score]}\")\n",
    "    print()"
   ]
  },
  {
   "cell_type": "markdown",
   "metadata": {},
   "source": [
    "- The best precision, recall, f1-score, and accuracy results are obtained when using Random Forest\n",
    "- So in the future the Random Forest model will be used"
   ]
  },
  {
   "cell_type": "markdown",
   "metadata": {},
   "source": [
    "# **Training the Model**"
   ]
  },
  {
   "cell_type": "code",
   "execution_count": 27,
   "metadata": {},
   "outputs": [
    {
     "name": "stdout",
     "output_type": "stream",
     "text": [
      "fit_time       : [0.9757762  0.9499321  1.09841514 0.96947074 1.14817238]\n",
      "score_time     : [0.04001069 0.04401422 0.06002998 0.04402733 0.04802608]\n",
      "test_precision : [0.97953795 0.97697368 0.96868885 0.97953795 0.97695853]\n",
      "test_recall    : [1. 1. 1. 1. 1.]\n",
      "test_f1        : [0.98966322 0.98835275 0.98409543 0.98966322 0.98834499]\n",
      "test_accuracy  : [0.98955877 0.98821152 0.98383294 0.98955526 0.98820755]\n"
     ]
    }
   ],
   "source": [
    "# Perform cross validation on the default Random Forest model\n",
    "rf = RandomForestClassifier(random_state=42)\n",
    "scoring = ['precision', 'recall', 'f1', 'accuracy']\n",
    "scores = cross_validate(rf, X_train, y_train, cv=5, scoring=scoring)\n",
    "for score in scores.keys():\n",
    "    print(f\"{score:<15}: {scores[score]}\")"
   ]
  },
  {
   "cell_type": "markdown",
   "metadata": {},
   "source": [
    "The Random Forest model looks overfit because it shows very high values ​​in all results, especially in perfect recall values. If the model overfits the training data, it is feared that the model will not be successful in carrying out general classification for new data. Therefore, it is necessary to change the parameter values, so that the Random Forest model can be more general to all training data, test data and new data."
   ]
  },
  {
   "cell_type": "code",
   "execution_count": 28,
   "metadata": {},
   "outputs": [
    {
     "name": "stdout",
     "output_type": "stream",
     "text": [
      "fit_time       : [0.45719194 0.47211146 0.44991732 0.450068   0.49170995]\n",
      "score_time     : [0.02401876 0.02400589 0.0200088  0.02400756 0.02800798]\n",
      "test_precision : [0.91049581 0.91761724 0.91464968 0.91741935 0.92337662]\n",
      "test_recall    : [0.95283019 0.97508418 0.96700337 0.95822102 0.95822102]\n",
      "test_f1        : [0.93118209 0.94547829 0.9400982  0.9373764  0.94047619]\n",
      "test_accuracy  : [0.92960593 0.94375211 0.93836309 0.93598383 0.9393531 ]\n"
     ]
    }
   ],
   "source": [
    "# Changed the value of the RandomForestClassifier parameter to avoid overfitting\n",
    "rf = RandomForestClassifier(\n",
    "    n_estimators=50,               # default = 100\n",
    "    criterion='gini',              # default = gini\n",
    "    min_samples_split=50,          # default = 2\n",
    "    min_samples_leaf=25,           # default = 1\n",
    "    min_weight_fraction_leaf=0.0,  # default = 0.0\n",
    "    max_features='sqrt',           # default = sqrt\n",
    "    max_leaf_nodes=None,           # default = None\n",
    "    min_impurity_decrease=0.0,     # default = 0.0\n",
    "    bootstrap=True,                # default = True\n",
    "    oob_score=True,                # default = False\n",
    "    n_jobs=None,                   # default = None\n",
    "    random_state=42,               # default = None\n",
    "    verbose=0,                     # default = 0\n",
    "    warm_start=False,              # default = False\n",
    "    class_weight=None,             # default = None\n",
    "    ccp_alpha=0.0,                 # default = 0.0\n",
    "    max_samples=None               # default = None\n",
    ")\n",
    "\n",
    "scores = cross_validate(rf, X_train, y_train, cv=5, scoring=scoring)\n",
    "for score in scores.keys():\n",
    "    print(f\"{score:<15}: {scores[score]}\")"
   ]
  },
  {
   "cell_type": "markdown",
   "metadata": {},
   "source": [
    "Because the Random Forest model does not appear to be as overfit as before, this Random Forest model will be used further."
   ]
  },
  {
   "cell_type": "code",
   "execution_count": 29,
   "metadata": {},
   "outputs": [
    {
     "name": "stdout",
     "output_type": "stream",
     "text": [
      "[[6875  546]\n",
      " [ 130 7292]] \n",
      "\n",
      "              precision    recall  f1-score   support\n",
      "\n",
      "           0       0.98      0.93      0.95      7421\n",
      "           1       0.93      0.98      0.96      7422\n",
      "\n",
      "    accuracy                           0.95     14843\n",
      "   macro avg       0.96      0.95      0.95     14843\n",
      "weighted avg       0.96      0.95      0.95     14843\n",
      "\n"
     ]
    }
   ],
   "source": [
    "# Train a new Random Forest model on the entire training data\n",
    "rf.fit(X_train, y_train)\n",
    "y_train_pred = rf.predict(X_train)\n",
    "\n",
    "print(confusion_matrix(y_train, y_train_pred), \"\\n\")\n",
    "print(classification_report(y_train, y_train_pred))"
   ]
  },
  {
   "cell_type": "markdown",
   "metadata": {},
   "source": [
    "It can be seen that the Random Forest model, which has been improved and trained on all training data, has succeeded in producing precision, recall, f1-score and accuracy values ​​with small variations compared to the Random Forest cross validation results. So it can be said that the Random Forest model is no longer overfit."
   ]
  },
  {
   "cell_type": "markdown",
   "metadata": {},
   "source": [
    "# **Evaluate the Model**"
   ]
  },
  {
   "cell_type": "code",
   "execution_count": 30,
   "metadata": {},
   "outputs": [
    {
     "name": "stdout",
     "output_type": "stream",
     "text": [
      "[[1667  143]\n",
      " [  46 1755]] \n",
      "\n",
      "              precision    recall  f1-score   support\n",
      "\n",
      "           0       0.97      0.92      0.95      1810\n",
      "           1       0.92      0.97      0.95      1801\n",
      "\n",
      "    accuracy                           0.95      3611\n",
      "   macro avg       0.95      0.95      0.95      3611\n",
      "weighted avg       0.95      0.95      0.95      3611\n",
      "\n"
     ]
    }
   ],
   "source": [
    "# Make predictions on testing data and evaluate the results\n",
    "y_test_pred = rf.predict(X_test)\n",
    "print(confusion_matrix(y_test, y_test_pred), \"\\n\")\n",
    "print(classification_report(y_test, y_test_pred))"
   ]
  },
  {
   "cell_type": "markdown",
   "metadata": {},
   "source": [
    "The updated Random Forest model succeeded in producing metric values ​​that were similar (not much different) to the Random Forest results on the training data. This means that the Random Forest model has succeeded in generalizing new data and does not overfit the training data."
   ]
  },
  {
   "cell_type": "markdown",
   "metadata": {},
   "source": [
    "# **New Data Simulation**"
   ]
  },
  {
   "cell_type": "markdown",
   "metadata": {},
   "source": [
    "Try to simulate new data (taken from 100 testing data that have not been tested)"
   ]
  },
  {
   "cell_type": "code",
   "execution_count": 31,
   "metadata": {},
   "outputs": [
    {
     "name": "stdout",
     "output_type": "stream",
     "text": [
      "Amount of new data: 100\n",
      "New target: Machine failure\n",
      "1    54\n",
      "0    46\n",
      "Name: count, dtype: int64\n"
     ]
    }
   ],
   "source": [
    "# View new data information\n",
    "print(f\"Amount of new data: {len(new_feature)}\")\n",
    "print(f\"New target: {new_target.value_counts()}\")"
   ]
  },
  {
   "cell_type": "code",
   "execution_count": 32,
   "metadata": {},
   "outputs": [],
   "source": [
    "# Scaling new data using the declared standard_scaler and minmax_scaler\n",
    "new_feature[['Air temperature', 'Rotational speed']] = standard_scaler.transform(new_feature[['Air temperature', 'Rotational speed']])\n",
    "new_feature[['Tool wear', 'Type']] = minmax_scaler.transform(new_feature[['Tool wear', 'Type']])"
   ]
  },
  {
   "cell_type": "code",
   "execution_count": 33,
   "metadata": {},
   "outputs": [
    {
     "name": "stdout",
     "output_type": "stream",
     "text": [
      "[[44  2]\n",
      " [ 1 53]] \n",
      "\n",
      "              precision    recall  f1-score   support\n",
      "\n",
      "           0       0.98      0.96      0.97        46\n",
      "           1       0.96      0.98      0.97        54\n",
      "\n",
      "    accuracy                           0.97       100\n",
      "   macro avg       0.97      0.97      0.97       100\n",
      "weighted avg       0.97      0.97      0.97       100\n",
      "\n"
     ]
    }
   ],
   "source": [
    "# Make predictions on new data\n",
    "new_target_pred = rf.predict(new_feature)\n",
    "print(confusion_matrix(new_target, new_target_pred), \"\\n\")\n",
    "print(classification_report(new_target, new_target_pred))"
   ]
  },
  {
   "cell_type": "markdown",
   "metadata": {},
   "source": [
    "# **Saving the Model**"
   ]
  },
  {
   "cell_type": "code",
   "execution_count": 34,
   "metadata": {},
   "outputs": [],
   "source": [
    "model_name = 'random_forest'\n",
    "with open(f\"{model_name}.pkl\", 'wb') as f:\n",
    "  pickle.dump(rf, f)"
   ]
  },
  {
   "cell_type": "code",
   "execution_count": 35,
   "metadata": {},
   "outputs": [
    {
     "name": "stdout",
     "output_type": "stream",
     "text": [
      "[[44  2]\n",
      " [ 1 53]] \n",
      "\n",
      "              precision    recall  f1-score   support\n",
      "\n",
      "           0       0.98      0.96      0.97        46\n",
      "           1       0.96      0.98      0.97        54\n",
      "\n",
      "    accuracy                           0.97       100\n",
      "   macro avg       0.97      0.97      0.97       100\n",
      "weighted avg       0.97      0.97      0.97       100\n",
      "\n"
     ]
    }
   ],
   "source": [
    "# test load model\n",
    "with open(f\"{model_name}.pkl\", \"rb\") as f:\n",
    "  loaded_model = pickle.load(f)\n",
    "\n",
    "new_target_pred = loaded_model.predict(new_feature)\n",
    "print(confusion_matrix(new_target, new_target_pred), \"\\n\")\n",
    "print(classification_report(new_target, new_target_pred))"
   ]
  }
 ],
 "metadata": {
  "kernelspec": {
   "display_name": "Python 3",
   "language": "python",
   "name": "python3"
  },
  "language_info": {
   "codemirror_mode": {
    "name": "ipython",
    "version": 3
   },
   "file_extension": ".py",
   "mimetype": "text/x-python",
   "name": "python",
   "nbconvert_exporter": "python",
   "pygments_lexer": "ipython3",
   "version": "3.11.4"
  }
 },
 "nbformat": 4,
 "nbformat_minor": 2
}
